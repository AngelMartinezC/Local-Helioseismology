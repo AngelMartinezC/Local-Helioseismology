{
 "cells": [
  {
   "cell_type": "markdown",
   "metadata": {},
   "source": [
    "# Pattern recognition\n",
    "\n",
    "### Preliminar version of image recognition.\n",
    "\n",
    "Packages needed\n",
    ">* [polarTransform](https://github.com/addisonElliott/polarTransform)\n",
    ">* [astropy](http://docs.astropy.org/en/stable/install.html)\n",
    ">* [timedistance](https://github.com/AngelMartinezC/Local-Helioseismology) (By the moment this module is not used)\n",
    "\n",
    "### Sources\n",
    "* [Object detection (OpenCV)](https://www.learnopencv.com/image-recognition-and-object-detection-part1/ \"OpenCV\")\n",
    "* [easy-tensorflow](https://github.com/easy-tensorflow/easy-tensorflow)\n",
    "\n",
    "---"
   ]
  },
  {
   "cell_type": "code",
   "execution_count": 1,
   "metadata": {},
   "outputs": [],
   "source": [
    "from astropy.io import fits\n",
    "import numpy as np\n",
    "import matplotlib.pyplot as plt\n",
    "from timedistance import td  # not needed by the moment\n",
    "import time\n",
    "import polarTransform"
   ]
  },
  {
   "cell_type": "markdown",
   "metadata": {},
   "source": [
    "The next step is to find the greatest value of the cube array for every frame. Then it is selected the frame with the greatest value in order to find is pixel-values. These pixel values will be used as center for the sunquake."
   ]
  },
  {
   "cell_type": "code",
   "execution_count": 2,
   "metadata": {},
   "outputs": [
    {
     "data": {
      "text/plain": [
       "'Max value:  3056.45  ---  check value:  3056.45 '"
      ]
     },
     "execution_count": 2,
     "metadata": {},
     "output_type": "execute_result"
    }
   ],
   "source": [
    "cube = fits.getdata(\"Data/HMIDoppler.difference.fits\",0)\n",
    "\n",
    "value = np.array([cube[i].max() for i in range(len(cube))])\n",
    "frame = np.where(value==value.max())[0][0]\n",
    "max_data = np.where(cube[frame]==cube[frame].max())\n",
    "\n",
    "y = max_data[0][0]\n",
    "x = max_data[1][0]\n",
    "\n",
    "\"Max value:  {0:.2f}  ---  check value:  {1:.2f} \".format(value.max(),cube[frame][y,x])"
   ]
  },
  {
   "cell_type": "code",
   "execution_count": 3,
   "metadata": {},
   "outputs": [
    {
     "data": {
      "text/plain": [
       "<matplotlib.image.AxesImage at 0x7f7815f34e80>"
      ]
     },
     "execution_count": 3,
     "metadata": {},
     "output_type": "execute_result"
    },
    {
     "data": {
      "image/png": "[encoded data removed]",
      "text/plain": [
       "<matplotlib.figure.Figure at 0x7f782bc6f5f8>"
      ]
     },
     "metadata": {},
     "output_type": "display_data"
    }
   ],
   "source": [
    "# Testing the real sunquake with timedistance\n",
    "\n",
    "flare = \"Data/HMIDoppler.difference.fits\"\n",
    "\n",
    "# 192-260 the values of x and y found by eye \n",
    "\n",
    "# image = td(flare, x0=x, y0=y, theta0=230, theta1=240, savfile=None,rad0=0,radius=120)\n",
    "# final = image.tdplot(save=None,colorbar=False,plot=False)\n",
    "\n",
    "t0 = 230*np.pi/180\n",
    "t1 = 240*np.pi/180\n",
    "\n",
    "image_td = []\n",
    "for ij in range(len(cube)):\n",
    "            polarImage, ptSettings = polarTransform.convertToPolarImage(cube[ij],\\\n",
    "                                center=[x, y], initialRadius = 0, \\\n",
    "                                finalRadius = 140, initialAngle = t0, finalAngle = t1)\n",
    "            slices = []\n",
    "            for i in range(len(polarImage[:,0])):\n",
    "                slices.append(np.mean(polarImage[i,:]))\n",
    "            image_td.append(slices)\n",
    "\n",
    "plt.ylabel('Time [45 seconds]')\n",
    "plt.xlabel('Distance [pixels]')\n",
    "plt.imshow(image_td,origin='lower',cmap='Greys_r')"
   ]
  },
  {
   "cell_type": "code",
   "execution_count": 4,
   "metadata": {},
   "outputs": [
    {
     "name": "stdout",
     "output_type": "stream",
     "text": [
      "\n",
      "Time is 13.6 s\n"
     ]
    }
   ],
   "source": [
    "def ML(x1,y1):\n",
    "\n",
    "    s = time.time()\n",
    "    b=0\n",
    "    ii=2\n",
    "    images = []\n",
    "    while b < 240:\n",
    "        ii = ii+1\n",
    "        b = ii*10\n",
    "        a = b-10\n",
    "\n",
    "        t0 = a*np.pi/180\n",
    "        t1 = b*np.pi/180\n",
    "\n",
    "        # The next step is a conditional if to break the loop when the condition \n",
    "        # of sunquake is reached\n",
    "\n",
    "        image_td = []\n",
    "        for ij in range(len(cube)):\n",
    "                    polarImage, ptSettings = polarTransform.convertToPolarImage(cube[ij],\\\n",
    "                                        center=[x, y], initialRadius = 0, \\\n",
    "                                        finalRadius = 120, initialAngle = t0, finalAngle = t1)\n",
    "                    slices = []\n",
    "                    for i in range(len(polarImage[:,0])):\n",
    "                        slices.append(np.mean(polarImage[i,:]))\n",
    "                    image_td.append(slices)\n",
    "        images.append(image_td)\n",
    "        \n",
    "    e = time.time()\n",
    "    print(\"\\nTime is {0:.3} s\".format(e-s))\n",
    "    \n",
    "    return images\n",
    "    \n",
    "images = ML(x,y)"
   ]
  },
  {
   "cell_type": "code",
   "execution_count": 5,
   "metadata": {
    "scrolled": false
   },
   "outputs": [],
   "source": [
    "# Optional using timedistance module\n",
    "\n",
    "def using_timedistance_module():\n",
    "\n",
    "    def ML(x1,y1):\n",
    "\n",
    "        s = time.time()\n",
    "        b=0\n",
    "        i=2\n",
    "        images = []\n",
    "        while b < 240:\n",
    "            i = i+1\n",
    "            b = i*10\n",
    "            a = b-10\n",
    "\n",
    "            # The next step is a conditional if to break the loop when the condition \n",
    "            # of sunquake is reached\n",
    "\n",
    "            image = td(flare, x0=x1, y0=y1, theta0=a, theta1=b, savfile=None,rad0=0,radius=None)\n",
    "            final = image.tdplot(save=None,colorbar=False,plot=False,noprint=False,notime=False)\n",
    "            images.append(final)\n",
    "\n",
    "        e = time.time()\n",
    "        print(\"\\nTime is {0:.3} s\".format(e-s))\n",
    "        return images\n",
    "\n",
    "    images = ML(x,y)"
   ]
  },
  {
   "cell_type": "code",
   "execution_count": null,
   "metadata": {},
   "outputs": [],
   "source": []
  },
  {
   "cell_type": "code",
   "execution_count": null,
   "metadata": {},
   "outputs": [],
   "source": []
  }
 ],
 "metadata": {
  "kernelspec": {
   "display_name": "Python 3",
   "language": "python",
   "name": "python3"
  },
  "language_info": {
   "codemirror_mode": {
    "name": "ipython",
    "version": 3
   },
   "file_extension": ".py",
   "mimetype": "text/x-python",
   "name": "python",
   "nbconvert_exporter": "python",
   "pygments_lexer": "ipython3",
   "version": "3.6.4"
  }
 },
 "nbformat": 4,
 "nbformat_minor": 2
}
